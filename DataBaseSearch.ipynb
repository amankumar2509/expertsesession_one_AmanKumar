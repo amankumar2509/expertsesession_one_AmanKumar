{
 "cells": [
  {
   "cell_type": "code",
   "execution_count": 10,
   "id": "1c4d5104",
   "metadata": {},
   "outputs": [],
   "source": [
    "import json\n",
    "\n",
    "from prettytable import PrettyTable\n",
    "from stringMatcher import levenshtein_ratio_and_distance\n",
    "from time import time\n",
    "\n",
    "table = PrettyTable(field_names=[\"id\", \"fueltype\", \"carrating\", \"originalprice\"])"
   ]
  },
  {
   "cell_type": "markdown",
   "id": "e11326f6",
   "metadata": {},
   "source": [
    "# Load the database into the memory..."
   ]
  },
  {
   "cell_type": "code",
   "execution_count": 11,
   "id": "7a43ff1d",
   "metadata": {},
   "outputs": [],
   "source": [
    "data = json.load(open(\"dataStore/dataFinal.json\", \"rb\"))"
   ]
  },
  {
   "cell_type": "markdown",
   "id": "d69097f3",
   "metadata": {},
   "source": [
    "# Load the Global Secondary index in the memory..."
   ]
  },
  {
   "cell_type": "code",
   "execution_count": 12,
   "id": "d4b9913b",
   "metadata": {},
   "outputs": [],
   "source": [
    "GIS = json.load(open(\"dataStore/dataFinal_GIS.json\", \"rb\"))"
   ]
  },
  {
   "cell_type": "markdown",
   "id": "8091f090",
   "metadata": {},
   "source": [
    "# Write a function to search the cars by Car Name"
   ]
  },
  {
   "cell_type": "code",
   "execution_count": 13,
   "id": "27389ac9",
   "metadata": {},
   "outputs": [],
   "source": [
    "def getClosestMatch(queryString):\n",
    "    # Initialize the time counter...\n",
    "    tic                  = time()\n",
    "    \n",
    "    # Find closest match of the queryString from the Global Secondary Index...\n",
    "    matchRatios          = [levenshtein_ratio_and_distance(queryString, KEY) for KEY, _ in GIS.items()]\n",
    "    bestMatchRatio       = max(matchRatios)\n",
    "\n",
    "    # If the best match ratio is less than 50% then we will assume that the records doesn't exist...\n",
    "    if (bestMatchRatio < 0.5):\n",
    "        return {\n",
    "            \"response code\" : 404,\n",
    "            \"search time\"   : f\"{time()-tic} seconds\",\n",
    "            \"message\"       : \"error\",\n",
    "            \"response body\" : \"no match found\"\n",
    "        }\n",
    "    \n",
    "    # Otherwise...\n",
    "    bestMatchRatio_index = matchRatios.index(bestMatchRatio)\n",
    "\n",
    "    # Find the movieID of the movie which is the best match to the queryString...\n",
    "    bestMatch_carName = list(GIS)[bestMatchRatio_index]\n",
    "    bestMatch_CarID    = GIS[bestMatch_carName]\n",
    "\n",
    "    # Now we have movieID which is the primary key in our main data-store...\n",
    "    # Retrieve the details of the movie from the MovieID\n",
    "    carInfo            = data[str(bestMatch_CarID)]\n",
    "    \n",
    "    # Mark the search completion time...\n",
    "    toc                  = time()\n",
    "\n",
    "    # Add Movie Title to the response...\n",
    "    carInfo[\"car_name\"] = bestMatch_carName\n",
    "    # Construct the response Model...\n",
    "    responseModel = {\n",
    "        \"response code\" : 200,\n",
    "        \"search time\"   : f\"{toc-tic} seconds\",\n",
    "        \"message\"       : \"success\",\n",
    "        \"response body\" : carInfo\n",
    "    }\n",
    "    \n",
    "    return responseModel"
   ]
  },
  {
   "cell_type": "markdown",
   "id": "afae8215",
   "metadata": {},
   "source": [
    "# Write a function to make a request and visualize the data returned by the search function..."
   ]
  },
  {
   "cell_type": "code",
   "execution_count": 16,
   "id": "596379a1",
   "metadata": {},
   "outputs": [],
   "source": [
    "def request(carToSearch=\"\"):\n",
    "    # car name should always be in a string...\n",
    "    carToSearch = str(carToSearch)\n",
    "    # Check if the car name is valid...\n",
    "    if(carToSearch.replace(\" \", \"\").strip() == \"\"):\n",
    "        return f\"Invalid Car Name\"\n",
    "    \n",
    "    # Make a request to fetch the movie info...\n",
    "    response = getClosestMatch(queryString = carToSearch)\n",
    "\n",
    "    # Check the response code...\n",
    "    if response[\"response code\"] == 404:\n",
    "        return f\"ERROR: No records found\"\n",
    "    \n",
    "   \n",
    "    # Now we need to check if a user has given \n",
    "    data_to_print = f\"\\\n",
    "    Carname          : {response['response body']['car_name']}\\n\\\n",
    "    Fueltype          : {response['response body']['fueltype']}\\n\\\n",
    "    Rating   : ---------------------------\\n\\\n",
    "    \"\n",
    "    print(data_to_print)\n",
    "    print(table)"
   ]
  },
  {
   "cell_type": "code",
   "execution_count": 17,
   "id": "cf1fe71c",
   "metadata": {},
   "outputs": [
    {
     "name": "stdout",
     "output_type": "stream",
     "text": [
      "    Carname          : hyundai eon\n",
      "    Fueltype          : ['petrol']\n",
      "    Rating   : ---------------------------\n",
      "    \n",
      "+----+----------+-----------+---------------+\n",
      "| id | fueltype | carrating | originalprice |\n",
      "+----+----------+-----------+---------------+\n",
      "+----+----------+-----------+---------------+\n"
     ]
    }
   ],
   "source": [
    "request(carToSearch=\"hyundai\")"
   ]
  },
  {
   "cell_type": "code",
   "execution_count": null,
   "id": "71850ba7",
   "metadata": {},
   "outputs": [],
   "source": []
  }
 ],
 "metadata": {
  "kernelspec": {
   "display_name": "Python 3",
   "language": "python",
   "name": "python3"
  },
  "language_info": {
   "codemirror_mode": {
    "name": "ipython",
    "version": 3
   },
   "file_extension": ".py",
   "mimetype": "text/x-python",
   "name": "python",
   "nbconvert_exporter": "python",
   "pygments_lexer": "ipython3",
   "version": "3.8.8"
  }
 },
 "nbformat": 4,
 "nbformat_minor": 5
}
